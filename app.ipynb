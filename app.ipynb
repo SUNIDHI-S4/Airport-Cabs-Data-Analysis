{
 "cells": [
  {
   "cell_type": "code",
   "execution_count": 1,
   "id": "27598453-e9df-40f5-9c05-a4a17572a583",
   "metadata": {},
   "outputs": [],
   "source": [
    "import numpy as np"
   ]
  },
  {
   "cell_type": "code",
   "execution_count": 2,
   "id": "bd0fd010-78e9-4b4b-b1f1-53ce05a55630",
   "metadata": {},
   "outputs": [],
   "source": [
    "taxi = np.genfromtxt('nyc_taxis.csv', delimiter=',', skip_header=True)"
   ]
  },
  {
   "cell_type": "code",
   "execution_count": 3,
   "id": "7c3fd7fb-f94e-41a6-832f-e32654d614f9",
   "metadata": {},
   "outputs": [
    {
     "data": {
      "text/plain": [
       "array([37.11340206, 38.58157895, 31.27222982, ..., 22.29907867,\n",
       "       42.41551247, 36.90473407], shape=(89560,))"
      ]
     },
     "execution_count": 3,
     "metadata": {},
     "output_type": "execute_result"
    }
   ],
   "source": [
    "speed = taxi[:,7]/(taxi[:,8]/3600)\n",
    "speed"
   ]
  },
  {
   "cell_type": "code",
   "execution_count": 4,
   "id": "578b7824-ca44-4e85-9707-66d4e37f5dd1",
   "metadata": {},
   "outputs": [
    {
     "name": "stdout",
     "output_type": "stream",
     "text": [
      "32.24258580925573\n"
     ]
    }
   ],
   "source": [
    "# mean speed of all cabs taken from airport\n",
    "mean_speed = speed.mean()\n",
    "print(mean_speed)"
   ]
  },
  {
   "cell_type": "code",
   "execution_count": 5,
   "id": "794e8470-e32f-4823-a65a-96124390a4ba",
   "metadata": {},
   "outputs": [
    {
     "name": "stdout",
     "output_type": "stream",
     "text": [
      "13333\n"
     ]
    }
   ],
   "source": [
    "# number of rides taken in the month of february\n",
    "rides_feb = taxi[taxi[:,1] == 2,1]\n",
    "print(rides_feb.shape[0])"
   ]
  },
  {
   "cell_type": "code",
   "execution_count": 6,
   "id": "0d89431a-262c-4120-92d5-43f9c66a4c66",
   "metadata": {},
   "outputs": [
    {
     "name": "stdout",
     "output_type": "stream",
     "text": [
      "16\n"
     ]
    }
   ],
   "source": [
    "#tip50 = taxi[taxi[:,-3]>50, -3]\n",
    "#print(tip50.shape[0])\n",
    "print(taxi[taxi[:,-3]>50,-3].shape[0])"
   ]
  },
  {
   "cell_type": "code",
   "execution_count": 7,
   "id": "8044e632-8e1d-49c5-bf7a-11eface28aba",
   "metadata": {},
   "outputs": [
    {
     "name": "stdout",
     "output_type": "stream",
     "text": [
      "11832\n"
     ]
    }
   ],
   "source": [
    "# number of rides drop off jfk airport\n",
    "print(taxi[taxi[:,6]==2,6].shape[0])"
   ]
  },
  {
   "cell_type": "code",
   "execution_count": null,
   "id": "7138cfbb-969d-42ac-8c5c-ba73b5396bd1",
   "metadata": {},
   "outputs": [],
   "source": []
  }
 ],
 "metadata": {
  "kernelspec": {
   "display_name": "Python 3 (ipykernel)",
   "language": "python",
   "name": "python3"
  },
  "language_info": {
   "codemirror_mode": {
    "name": "ipython",
    "version": 3
   },
   "file_extension": ".py",
   "mimetype": "text/x-python",
   "name": "python",
   "nbconvert_exporter": "python",
   "pygments_lexer": "ipython3",
   "version": "3.13.2"
  }
 },
 "nbformat": 4,
 "nbformat_minor": 5
}
